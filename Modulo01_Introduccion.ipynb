{
 "cells": [
  {
   "cell_type": "markdown",
   "metadata": {
    "slideshow": {
     "slide_type": "slide"
    }
   },
   "source": [
    "<h1 align=\"center\">Fundamentos de Programación</h1>\n",
    "<h1 align=\"center\">Módulo 01: Introducción</h1>\n",
    "<h1 align=\"center\">2021/02</h1>\n",
    "<h1 align=\"center\">MEDELLÍN - COLOMBIA </h1>"
   ]
  },
  {
   "cell_type": "markdown",
   "metadata": {},
   "source": [
    "<table>\n",
    " <tr align=left><td><img align=left src=\"https://github.com/carlosalvarezh/Fundamentos_Programacion/blob/main/images/CC-BY.png?raw=true\">\n",
    " <td>Text provided under a Creative Commons Attribution license, CC-BY. All code is made available under the FSF-approved MIT license.(c) Carlos Alberto Alvarez Henao</td>\n",
    "</table>"
   ]
  },
  {
   "cell_type": "markdown",
   "metadata": {},
   "source": [
    "*** \n",
    "***Docente:*** Carlos Alberto Álvarez Henao, I.C. D.Sc.\n",
    "\n",
    "***e-mail:*** carlosalvarezh@gmail.com\n",
    "\n",
    "***skype:*** carlos.alberto.alvarez.henao\n",
    "\n",
    "***Linkedin:*** https://www.linkedin.com/in/carlosalvarez5/\n",
    "\n",
    "***github:*** https://github.com/carlosalvarezh/Fundamentos_Programacion\n",
    "\n",
    "***Herramienta:*** [Jupyter Notebook](http://jupyter.org/)\n",
    "\n",
    "***Kernel:*** Python 3.8\n",
    "***"
   ]
  },
  {
   "cell_type": "markdown",
   "metadata": {},
   "source": [
    "<a id='TOC'></a>"
   ]
  },
  {
   "cell_type": "markdown",
   "metadata": {
    "toc": true
   },
   "source": [
    "<h1>Tabla de Contenidos<span class=\"tocSkip\"></span></h1>\n",
    "<div class=\"toc\"><ul class=\"toc-item\"><li><span><a href=\"#Presentación-del-Curso---Introducción\" data-toc-modified-id=\"Presentación-del-Curso---Introducción-1\"><span class=\"toc-item-num\">1&nbsp;&nbsp;</span>Presentación del Curso - Introducción</a></span><ul class=\"toc-item\"><li><span><a href=\"#TODOS-DEBERÍAMOS-SABER-PROGRAMAR...-TODOS!\" data-toc-modified-id=\"TODOS-DEBERÍAMOS-SABER-PROGRAMAR...-TODOS!-1.1\"><span class=\"toc-item-num\">1.1&nbsp;&nbsp;</span>TODOS DEBERÍAMOS SABER PROGRAMAR... TODOS!</a></span></li><li><span><a href=\"#Objetivo-General:\" data-toc-modified-id=\"Objetivo-General:-1.2\"><span class=\"toc-item-num\">1.2&nbsp;&nbsp;</span>Objetivo General:</a></span></li><li><span><a href=\"#Objetivos-específicos-del-curso\" data-toc-modified-id=\"Objetivos-específicos-del-curso-1.3\"><span class=\"toc-item-num\">1.3&nbsp;&nbsp;</span>Objetivos específicos del curso</a></span></li><li><span><a href=\"#Competencias:\" data-toc-modified-id=\"Competencias:-1.4\"><span class=\"toc-item-num\">1.4&nbsp;&nbsp;</span>Competencias:</a></span></li><li><span><a href=\"#Público-Objetivo:\" data-toc-modified-id=\"Público-Objetivo:-1.5\"><span class=\"toc-item-num\">1.5&nbsp;&nbsp;</span>Público Objetivo:</a></span></li><li><span><a href=\"#Contenido-programático\" data-toc-modified-id=\"Contenido-programático-1.6\"><span class=\"toc-item-num\">1.6&nbsp;&nbsp;</span>Contenido programático</a></span></li><li><span><a href=\"#Evaluación\" data-toc-modified-id=\"Evaluación-1.7\"><span class=\"toc-item-num\">1.7&nbsp;&nbsp;</span>Evaluación</a></span></li><li><span><a href=\"#Metodología\" data-toc-modified-id=\"Metodología-1.8\"><span class=\"toc-item-num\">1.8&nbsp;&nbsp;</span>Metodología</a></span></li></ul></li><li><span><a href=\"#Recursos-de-programación\" data-toc-modified-id=\"Recursos-de-programación-2\"><span class=\"toc-item-num\">2&nbsp;&nbsp;</span>Recursos de programación</a></span><ul class=\"toc-item\"><li><span><a href=\"#Por-qué-usar-Python?\" data-toc-modified-id=\"Por-qué-usar-Python?-2.1\"><span class=\"toc-item-num\">2.1&nbsp;&nbsp;</span>Por qué usar Python?</a></span></li><li><span><a href=\"#Con-Python-se-pueden-hacer:\" data-toc-modified-id=\"Con-Python-se-pueden-hacer:-2.2\"><span class=\"toc-item-num\">2.2&nbsp;&nbsp;</span>Con Python se pueden hacer:</a></span></li><li><span><a href=\"#Algunas-Empresas-que-usan-Python:\" data-toc-modified-id=\"Algunas-Empresas-que-usan-Python:-2.3\"><span class=\"toc-item-num\">2.3&nbsp;&nbsp;</span>Algunas Empresas que usan Python:</a></span></li><li><span><a href=\"#Lenguajes-de-Programación-más-usados-a-nivel-mundial:\" data-toc-modified-id=\"Lenguajes-de-Programación-más-usados-a-nivel-mundial:-2.4\"><span class=\"toc-item-num\">2.4&nbsp;&nbsp;</span>Lenguajes de Programación más usados a nivel mundial:</a></span></li><li><span><a href=\"#Por-dónde-empiezo?\" data-toc-modified-id=\"Por-dónde-empiezo?-2.5\"><span class=\"toc-item-num\">2.5&nbsp;&nbsp;</span>Por dónde empiezo?</a></span></li><li><span><a href=\"#De-dónde-obtengo-información-para-aprender-a-programar?\" data-toc-modified-id=\"De-dónde-obtengo-información-para-aprender-a-programar?-2.6\"><span class=\"toc-item-num\">2.6&nbsp;&nbsp;</span>De dónde obtengo información para aprender a programar?</a></span><ul class=\"toc-item\"><li><span><a href=\"#Algoritmia\" data-toc-modified-id=\"Algoritmia-2.6.1\"><span class=\"toc-item-num\">2.6.1&nbsp;&nbsp;</span>Algoritmia</a></span></li><li><span><a href=\"#Python-como-lenguaje-de-programación-(uno-entre-muchos)\" data-toc-modified-id=\"Python-como-lenguaje-de-programación-(uno-entre-muchos)-2.6.2\"><span class=\"toc-item-num\">2.6.2&nbsp;&nbsp;</span>Python como lenguaje de programación (uno entre muchos)</a></span></li><li><span><a href=\"#MooCs\" data-toc-modified-id=\"MooCs-2.6.3\"><span class=\"toc-item-num\">2.6.3&nbsp;&nbsp;</span>MooCs</a></span></li><li><span><a href=\"#Tutoriales-on-line:\" data-toc-modified-id=\"Tutoriales-on-line:-2.6.4\"><span class=\"toc-item-num\">2.6.4&nbsp;&nbsp;</span>Tutoriales on-line:</a></span></li><li><span><a href=\"#Apps-para-Smartphones-y-Tablets\" data-toc-modified-id=\"Apps-para-Smartphones-y-Tablets-2.6.5\"><span class=\"toc-item-num\">2.6.5&nbsp;&nbsp;</span>Apps para Smartphones y Tablets</a></span></li><li><span><a href=\"#Repositorios\" data-toc-modified-id=\"Repositorios-2.6.6\"><span class=\"toc-item-num\">2.6.6&nbsp;&nbsp;</span>Repositorios</a></span></li></ul></li></ul></li></ul></div>"
   ]
  },
  {
   "cell_type": "markdown",
   "metadata": {
    "slideshow": {
     "slide_type": "fragment"
    }
   },
   "source": [
    "## Presentación del Curso - Introducción"
   ]
  },
  {
   "cell_type": "markdown",
   "metadata": {
    "slideshow": {
     "slide_type": "slide"
    }
   },
   "source": [
    "### TODOS DEBERÍAMOS SABER PROGRAMAR... TODOS!"
   ]
  },
  {
   "cell_type": "code",
   "execution_count": null,
   "metadata": {
    "scrolled": false,
    "slideshow": {
     "slide_type": "subslide"
    }
   },
   "outputs": [],
   "source": [
    "from IPython.display import YouTubeVideo, HTML, IFrame\n",
    "YouTubeVideo('Y1HHBXDL9bg', width=640, height=480)"
   ]
  },
  {
   "cell_type": "markdown",
   "metadata": {},
   "source": [
    "### Objetivo General:"
   ]
  },
  {
   "cell_type": "markdown",
   "metadata": {
    "slideshow": {
     "slide_type": "subslide"
    }
   },
   "source": [
    "- Desarrollar habilidades de pensamiento de orden superior, como el razonamiento abstracto, el pensamiento crítico y la resolución de problemas, con base en los conceptos de la computación."
   ]
  },
  {
   "cell_type": "markdown",
   "metadata": {},
   "source": [
    "### Objetivos específicos del curso"
   ]
  },
  {
   "cell_type": "markdown",
   "metadata": {},
   "source": [
    "- Abstraer la información relevante de un problema cotidiano y proponer una estrategia metódica de solución.\n",
    "\n",
    "\n",
    "- Desarrollar algoritmos y programas simples en Python.​\n",
    "\n",
    "\n",
    "- Entender y aplicar conceptos básicos de ciencias de la computación, tales como: representación de datos, algoritmia, funciones, patrones, entre otros.​"
   ]
  },
  {
   "cell_type": "markdown",
   "metadata": {},
   "source": [
    "### Competencias:"
   ]
  },
  {
   "cell_type": "markdown",
   "metadata": {
    "slideshow": {
     "slide_type": "fragment"
    }
   },
   "source": [
    "Tras participar del proceso cognoscitivo y práctico, se espera que el alumno este en capacidad de:\n",
    "Entender la sintaxis de lenguaje `Python` al leer fuentes de otros programadores.\n",
    "Crear(Escribir) Scripts en `Python`, para crear diferentes tipos de aplicaciones como tipo consola(terminal),`TUI`, `GUI` y páginas Web básicas."
   ]
  },
  {
   "cell_type": "markdown",
   "metadata": {},
   "source": [
    "### Público Objetivo:"
   ]
  },
  {
   "cell_type": "markdown",
   "metadata": {
    "slideshow": {
     "slide_type": "fragment"
    }
   },
   "source": [
    "Todas las personas que deseen aprender un lenguaje de programación, múltiples propósitos y diferentes tipos de aplicaciones."
   ]
  },
  {
   "cell_type": "markdown",
   "metadata": {
    "slideshow": {
     "slide_type": "slide"
    }
   },
   "source": [
    "### Contenido programático"
   ]
  },
  {
   "cell_type": "markdown",
   "metadata": {
    "slideshow": {
     "slide_type": "subslide"
    }
   },
   "source": [
    "|**Semana** | **Fecha**         |**Contenido** |**Observación**|\n",
    "|:-----:|:-------------:|-----------|----------------------|\n",
    "|01     |19/07/2021|Descripción del curso y Pacto pedagógico| |\n",
    "|02|26-27/07/2021|Introducción a la programación y algoritmia||\n",
    "|03|02-03/08/2021|Introducción a plataformas virtuales de programación. Conceptos básicos de los tipos de variables en Python, entrada y salida de datos.||\n",
    "|04|09-10/08/2021|Condicionales||\n",
    "|05|16-17/08/2021|Funciones y modulos (concepto de funciones, creación de funciones, y tipos de retorno)|Taller 01 (10%)|\n",
    "|06|23-24/08/2021|Ciclos parte 1||\n",
    "|07|30-31/08/2021|Manejo de cadenas (concatenación y manipulación de textos)||\n",
    "|08|06-07/09/2021|Arreglos (agregación, modificación, acceso, borrado, y operaciones con arreglos)|Asamblea Estudiantíl|\n",
    "|09|13-14/09/2021|Ciclos parte 2 y ejercicios.||\n",
    "|- |20-25/09/2021||Semana de receso académico|\n",
    "|10|27-28/09/2021|Diccionarios y tuplas (agregación, modificación, acceso, borrado, y operaciones con diccionarios)|Taller 02 (20%)|\n",
    "|11|04-05/10/2021|Ficheros (operaciones con ficheros y manipulación de ficheros)||\n",
    "|12|11-12/10/2021|Análisis de datos y ejercicios (ordenamiento y busqueda)||\n",
    "|13|18-19/10/2021|Ecosistema Python: Bibliotecas científicas (Numpy)|Taller 03 (20%)|\n",
    "|14|25-26/10/2021|Ecosistema Python: Visualización (Matplotlib)|Finalización Ejercicios VPL (20%)|\n",
    "|15|01-02/11/2021|Ecosistema Python: Análisis de Datos (Pandas)|Proyecto entrega 1 (10%)  - Reporte 70%|\n",
    "|16|08-09/11/2021|Cierre: Presentación proyectos||\n",
    "||15-20/11/2021||Semana de Receso académico para preparación de finales|\n",
    "||22-27/11/2021||Semana de finales|\n",
    "||01/12/2021||Cierre académico - Reporte del 100%|"
   ]
  },
  {
   "cell_type": "markdown",
   "metadata": {},
   "source": [
    "### Evaluación"
   ]
  },
  {
   "cell_type": "markdown",
   "metadata": {},
   "source": [
    "- Ejercicios en Moodle VPL (20%) \n",
    "\n",
    "\n",
    "- Talleres (50% ) \n",
    "  - Taller 01: (10%)\n",
    "  - Taller 02: (20%)\n",
    "  - Taller 03: (20%)\n",
    "  \n",
    "\n",
    "- 2 entregables (30%)\n",
    "  - Estructuras de programación (10%)\n",
    "  - Pandas (20%)"
   ]
  },
  {
   "cell_type": "markdown",
   "metadata": {},
   "source": [
    "### Metodología"
   ]
  },
  {
   "cell_type": "markdown",
   "metadata": {},
   "source": [
    "La modalidad del curso es ***presencial*** sin embargo, entendiendo la actual situación por la que atravesamos, los estudiantes que tengan dificultad de asistir presencialmente en el campus de la Universidad lo podrán hacer a través de TEAMS. ***Las clases no serán grabadas***.\n",
    "\n",
    "Aunque la asistencia a clases en la Universidad es voluntaria, se tomará asistencia por cuestiones de controles internos. Se recomienda asistir a todas las clases y aprovechar los espacios de discusión en tiempo real.\n",
    "\n",
    "Las notas son responsabilidad del estudiante, NO DEL PROFESOR. Al final del semestre por favor evitar enviar correos del tipo:\n",
    "\n",
    "- “por favor colocarme un trabajo adicional”\n",
    "\n",
    "- “me van a quitar la beca”\n",
    "\n",
    "- “el promedio me va a quedar muy bajito”\n",
    "\n",
    "- “aunque la pierda que me quede altica”\n",
    "\n",
    "\n",
    "\n",
    "***Clases magistrales:*** Desde la primera clase el estudiante contará con la totalidad del material de estudio, por lo que será su respobsabilidad repasar las clases anteriores y actual antes de cada clase.\n",
    "\n",
    "\n",
    "***Clases prácticas donde se desarrollan talleres:*** terminar todos los talleres y ejercicios de las clases anteriores para ir al día con el curso\n",
    "\n",
    "\n",
    "***Asesorías:*** primero tratar de utilizar el canal de dudas de Teams. Luego llevar dudas puntuales a la asesoría. Evite estudiar y aprender empleando Youtube.\n"
   ]
  },
  {
   "cell_type": "markdown",
   "metadata": {},
   "source": [
    "<span style='background :yellow' > ***Por cada hora de clase un estudiante debería dedicar, AL MENOS, 2 horas de estudio fuera del aula.*** </span>"
   ]
  },
  {
   "cell_type": "markdown",
   "metadata": {},
   "source": [
    "[Volver a la Tabla de Contenido](#TOC)"
   ]
  },
  {
   "cell_type": "markdown",
   "metadata": {},
   "source": [
    "## Recursos de programación"
   ]
  },
  {
   "cell_type": "markdown",
   "metadata": {},
   "source": [
    "<p float=\"center\">\n",
    "  <img src=\"https://github.com/carlosalvarezh/FundamentosProgramacion/blob/main/images/Sem01Img01.jpg?raw=true\" width=\"500\" />\n",
    "</p>\n"
   ]
  },
  {
   "cell_type": "markdown",
   "metadata": {
    "slideshow": {
     "slide_type": "slide"
    }
   },
   "source": [
    "### Por qué usar Python?"
   ]
  },
  {
   "cell_type": "markdown",
   "metadata": {
    "slideshow": {
     "slide_type": "fragment"
    }
   },
   "source": [
    "`Python` es un lenguaje de programación multiplataforma, algunas de sus ventajas son: ayuda a mejorar la productividad ya que permite trabajar mucho más rápido que cualquier otro lenguaje, es versátil y soporta programación orientada a objetos, cuenta con una gran extensión de bibliotecas para un mejor uso, es un lenguaje de programación sostenible lo cual permite leer y modificar de una manera fácil los programas.\n",
    "\n",
    "- Lenguaje de programación de alto nivel creado por [Guido van Rossum](https://gvanrossum.github.io/ \"Guido van Rossum's home page\") a finales de los 80's. \n",
    "\n",
    "\n",
    "- Actualmente ocupa los promeros lugares como uno de los lenguajes de programación más ampliamente usados a nivel mundial. [TIOBE index enero/2021](https://www.tiobe.com/tiobe-index/ \"tiobe.com\") y [PYPL PopularitY of Programming Language](https://pypl.github.io/PYPL.html \"PYPL\")\n",
    "\n",
    "\n",
    "- Una de las mayores ventajas es su \"simplicidad\": En general, se requiere de muchas menos líneas de programación para ejecutar una determinada tarea que en otros lenguajes (`C/C++`, `java`, $\\ldots$.).\n",
    "\n",
    "\n",
    "- Viene con una amplica colección de bibliotecas que permiten extender las capacidades del lenguaje.\n",
    "\n",
    "\n",
    "- [Este](https://www.youtube.com/watch?v=Og847HVwRSI&feature=emb_logo \"Most popular programming languges 1965 - 2019\") es un video muy interesante que muestra la evolución de los lenguajes de programación más usados a nivel mundial desde 1965 y hasta 2019. Ampliamente recomndable su visualización:"
   ]
  },
  {
   "cell_type": "markdown",
   "metadata": {},
   "source": [
    "### Con Python se pueden hacer:"
   ]
  },
  {
   "cell_type": "markdown",
   "metadata": {
    "slideshow": {
     "slide_type": "subslide"
    }
   },
   "source": [
    "- Aplicaciones Web.\n",
    "\n",
    "- Análisis de Datos.\n",
    "\n",
    "- Aprendizajes de Maquina.\n",
    "\n",
    "- Visión Artificial.\n",
    "\n",
    "- Robótica, programar \"pequeñas\" computadoras(Raspberry Pi).\n",
    "\n",
    "- Juegos.\n",
    "\n",
    "- Web Scraping.\n",
    "\n",
    "- Automatizar(Scripts)"
   ]
  },
  {
   "cell_type": "markdown",
   "metadata": {},
   "source": [
    "### Algunas Empresas que usan Python:"
   ]
  },
  {
   "cell_type": "markdown",
   "metadata": {},
   "source": [
    "<img src=\"https://github.com/carlosalvarezh/FundamentosProgramacion/blob/main/images/Sem01Img02.PNG?raw=true\" width=\"500\" />\n",
    "</p>\n"
   ]
  },
  {
   "cell_type": "markdown",
   "metadata": {
    "slideshow": {
     "slide_type": "subslide"
    }
   },
   "source": [
    "### Lenguajes de Programación más usados a nivel mundial:"
   ]
  },
  {
   "cell_type": "markdown",
   "metadata": {},
   "source": [
    "En el siguiente video se podrá ver como ha sido la evolución de los lenguajes de programación más populares en la historia"
   ]
  },
  {
   "cell_type": "code",
   "execution_count": null,
   "metadata": {
    "scrolled": false
   },
   "outputs": [],
   "source": [
    "YouTubeVideo('Og847HVwRSI', width=640, height=480)"
   ]
  },
  {
   "cell_type": "markdown",
   "metadata": {},
   "source": [
    "### Por dónde empiezo? "
   ]
  },
  {
   "cell_type": "markdown",
   "metadata": {
    "slideshow": {
     "slide_type": "slide"
    }
   },
   "source": [
    "Lo primero es elegir una herramienta de trabajo sobre la cual realizar el código. A continuación me permito compartirles solo algunas herramientas de esas que he tenido la oportunidad de revisar y me parecen apropiadas para un curso de este nivel. No son las únicas, por el contrario, existen muchas otras más, quizás mejores, dependiendo del interés particular de desarrollo de cada quién. "
   ]
  },
  {
   "cell_type": "markdown",
   "metadata": {
    "slideshow": {
     "slide_type": "slide"
    }
   },
   "source": [
    "Algunos Aplicativos usados para programar, enfoncándonos luego en `Python`, son:\n",
    "\n",
    "\n",
    "- **[VPL - Laboratorio de programación virtual para Moodle](https://contenidosint.org/login/index.php \"VPL- Virtual Programming Lab\"):** es un módulo de actividades que gestiona las asignaciones de programación y cuyas características destacadas son: Editar el código fuente de los programas en el navegador. Ejecutar programas de forma interactiva en el navegador. Ejecutar pruebas para revisar los programas. Buscar similitudes entre archivos. Establecer restricciones de edición y evitar el pegado de texto externo.\n",
    "\n",
    "\n",
    "- **[PSeInt](http://pseint.sourceforge.net/ \"PSeInt\"):** \"*PSeInt es una herramienta para asistir a un estudiante en sus primeros pasos en programación. Mediante un simple e intuitivo pseudolenguaje en español (complementado con un editor de diagramas de flujo), le permite centrar su atención en los conceptos fundamentales de la algoritmia computacional, minimizando las dificultades propias de un lenguaje y proporcionando un entorno de trabajo con numerosas ayudas y recursos didácticos*\".\n",
    "\n",
    "\n",
    "- **[Anaconda](https://www.anaconda.com/ \"Anaconda\")**: suite de trabajo para desarrollo de programas en [Python](https://www.python.org/ \"Python.org\") o [R](https://www.r-project.org/ \"R\") para proyectos de computación científica, que incluye el Notebook [Jupyter](http://jupyter.org/ \"Jupyter\"), plataforma en la que están hechas estas notas del curso, y el IDE [Spyder](https://www.spyder-ide.org/ \"Spyder\"), entre otras herramientas.\n",
    "\n",
    "\n",
    "- **[Google Colab](https://colab.research.google.com/ \"Google Colaboratory\"):** *Colaboratory* (también conocido como *Colab*) es un entorno de *notebook Jupyter* gratuito que se ejecuta en la nube y almacena sus notebooks en *Google Drive*. *Colab* fue originalmente un proyecto interno de *Google* y a partir de octubre de 2019 *Colab* solo le permite crear notebooks con núcleos `Python 2` y `Python 3`; sin embargo, si tiene una computadora portátil con kernels `ir` o `swift`, funcionará, ya que tanto `R` como `Swift` están instalados en el contenedor. Otros núcleos como `Julia` aún no son compatibles.\n",
    "\n",
    "\n",
    "**IDE** (*Integrated Development Environment*) o *Entorno de Desarrollo Integrado*, es una aplicación informática que permite la integración de varios servicios que permiten el desarrollo de un software o programa de computador. \n",
    "\n",
    "Normalmente consiste de:\n",
    "\n",
    "- Editor de Código fuente\n",
    "\n",
    "- Depurador\n",
    "\n",
    "A seguir enunciaremos algunos IDE ampliamente usados en la industria:\n",
    "\n",
    "- **[PyCharm](https://www.jetbrains.com/pycharm-edu/ \"PyCharm\"):** es un entorno de desarrollo integrado (*IDE*) utilizado en la programación de computadoras, específicamente para el lenguaje `Python`. Es desarrollado por la compañía checa [JetBrains](https://www.jetbrains.com/ \"JetBrains\"). Proporciona análisis de código, un depurador gráfico, un probador de unidad integrado, integración con sistemas de control de versiones (*VCS*) y admite el desarrollo web con *Django*, así como Data Science con *Anaconda*.\n",
    "\n",
    "\n",
    "- **[repl.it](https://www.repl.it \"repl.it\"):** es una start-up basada en San Francisco y un *IDE* en línea. Su nombre proviene de \"[read – eval – print loop](https://en.wikipedia.org/wiki/Read%E2%80%93eval%E2%80%93print_loop \"repl\")\". Es compatible [*+50* lenguajes de programación](https://repl.it/languages \"repl.it languages\"): *JavaScript*, *Python*, *PHP*, *C/C++*, *Fortran* o incluso *QBasic*, entre muchos otros, así como de frameworks populares como Django, Ruby on Rails y Sinatra. Y si quieres lastimarte y escribir en Brainfuck, también puedes hacerlo.\n",
    "\n",
    "\n",
    "- **[Visual Studio Code](https://code.visualstudio.com/ \"Visual Studio Code\"):** es un editor de código fuente gratuito creado por Microsoft para Windows, Linux y macOS. Las características incluyen soporte para depuración, resaltado de sintaxis, finalización inteligente de código, fragmentos, refactorización de código y Git integrado \n",
    "\n",
    "\n",
    "También se puede desarrollar código empleando un bloc de notas y grabando el archivo del código creado con extensión `.py` que será reconocido por el compilador del lenguaje `python`. Adicionalmente a los bloc de notas \"clásico\" del windows, se tiene:\n",
    "\n",
    "- **[Notepad++](http://notepad-plus-plus.org/ \"Notepad\"):** es un editor de código fuente (ojo, no ejecuta!!! solo edita!!!). Presenta resaltado de sintaxis, plegado de código y autocompletado limitado para lenguajes de programación, scripting y marcado, pero no terminación de código inteligente o verificación de sintaxis. Como tal, puede resaltar correctamente el código escrito en un esquema compatible, pero no se puede verificar si la sintaxis es internamente sólida o compilable. A partir de la versión 7.6.3, *Notepad++* puede resaltar los elementos sintácticos de *+70 lenguajes de programación*. Solo se cuenta para trabajar en el SO *Windows*.\n"
   ]
  },
  {
   "cell_type": "markdown",
   "metadata": {
    "slideshow": {
     "slide_type": "slide"
    }
   },
   "source": [
    "### De dónde obtengo información para aprender a programar?"
   ]
  },
  {
   "cell_type": "markdown",
   "metadata": {},
   "source": [
    "#### Algoritmia"
   ]
  },
  {
   "cell_type": "markdown",
   "metadata": {
    "slideshow": {
     "slide_type": "slide"
    }
   },
   "source": [
    "Algunos libros introductorios en [Algoritmia](https://es.wikiversity.org/wiki/Algoritmia_y_programaci%C3%B3n_b%C3%A1sica/Aspectos_introductorios \"Algoritmia\"), que no emplean ningún lenguaje en particular \n",
    "\n",
    "- [Farrell, Joyce](http://latinoamerica.cengage.com/ls/introduccion-a-la-programacion-logica-y-diseno-7a-ed/ \"Farrell, Joyce. Introducción a la programación Lógica y Diseño\"). Introducción a la programación Lógica y Diseño (en físico, $$).\n",
    "\n",
    "\n",
    "- [Pinales y Velázquez](http://www.uaa.mx/direcciones/dgdv/editorial/docs/algoritmos.pdf \"Pinales y Velázquez. Algoritmos Resueltos con Diagramas de Flujo y Pseudocódigo\"). Algoritmos Resueltos con Diagramas de Flujo y Pseudocódigo (en pdf, libre descarga)."
   ]
  },
  {
   "cell_type": "markdown",
   "metadata": {},
   "source": [
    "#### Python como lenguaje de programación (uno entre muchos)"
   ]
  },
  {
   "cell_type": "markdown",
   "metadata": {
    "slideshow": {
     "slide_type": "slide"
    }
   },
   "source": [
    "- [Python.org](https://www.python.org/ \"Python.org\"): Página oficial del lenguaje de programación Python (inglés)\n",
    "\n",
    "\n",
    "- [Downey, Allen B. Think Python. 2a Ed. Green Tea Press.](http://greenteapress.com/wp/think-python-2e/ \"Downey, Allen B. Think Python\"): Libro en PDF de libre descarga (inglés).  "
   ]
  },
  {
   "cell_type": "markdown",
   "metadata": {},
   "source": [
    "#### MooCs"
   ]
  },
  {
   "cell_type": "markdown",
   "metadata": {},
   "source": [
    "**MooC** es la abreviatura de **Curso masivo abierto en línea** (*Massive open online Course*, en inglés) . En términos simples, es un curso de estudio puesto a disposición por Internet para una gran cantidad de personas. Algunas de las compañías de cursos en línea más comunes que compiten por este nuevo negocio educativo son: [Udemy](https://www.udemy.com/ \"Udemy\"), [Edx](https://www.edx.org/ \"Edx\"), [Coursera](https://www.coursera.org/ \"Coursera\") y [DataCamp](https://www.datacamp.com/ \"DataCamp\"), entre muchos otros.\n",
    "\n",
    "Los *MooC* generalmente tienen fechas específicas de inicio y finalización. Los interesados miran conferencias de video en línea, completan las tareas y reciben la calificación de inmediato la mayor parte del tiempo. Con el auge de la globalización y la tecnología, la accesibilidad a la educación superior ha aumentado dramáticamente.\n",
    "\n",
    "Los MooC son generalmente gratuitos, y los cursos ofrecidos en línea a menudo provienen de algunas de las universidades más prestigiosas como *Harvard*, *MIT* y *Stanford*. Cada año, los *MooC* se vuelven más populares. Hay más cursos disponibles y la calidad de la educación en línea aumenta. Los MooC se caracterizan por su masividad, apertura y conectividad. Utilizan estrategias similares a las redes sociales, conectando a las masas con los beneficios del aprendizaje.\n",
    "\n",
    "Pero... cuál de todos escoger? en [este enlace](https://coolcollegehelpers.com/udemy-vs-edx-coursera-udacity/ \"Udemy vs Edx vs Coursera vs Udacity\") pueden encontrar una excelente descripción de cada uno de ellos y encontrar cuál se adapta más a sus necesidades de capacitación, o en [este](https://medium.com/@adiyagil/udemy-vs-coursera-vs-lynda-the-ultimate-comparison-70586665dca5 \"Ultimate comparison\") también, y [aquí](https://www.thecrowder.com/online-courses-sites?utm_source=me&utm_medium=organic&utm_campaign=education&utm_content=Udemy-VS-Coursera-VS-Lynda&ref=me-organic-education-Udemy-VS-Coursera-VS-Lynda \"Online Courses Sites\") encontrará un cuadro comparativo y acceso directo a algunas de esas plataformas. "
   ]
  },
  {
   "cell_type": "markdown",
   "metadata": {},
   "source": [
    "#### Tutoriales on-line:"
   ]
  },
  {
   "cell_type": "markdown",
   "metadata": {
    "slideshow": {
     "slide_type": "slide"
    }
   },
   "source": [
    "Algunas páginas que ofrecen cursos on-line en diferentes áreas de las *TICs* (inglés/español). Algunos son libres (\"grátis\") pero si necesita certificado debes pagar.\n",
    "\n",
    "- **[Python Course](https://www.python-course.eu/index.php):** Excelente página para aprender `Python`a nivel básico, intermedio y/o avanzado (inglés)\n",
    "\n",
    "\n",
    "- **[SocraticaStudios](https://www.youtube.com/user/SocraticaStudios \"Socratica\")** Canal de [Youtube](https://www.youtube.com/ \"Youtube\") con algunos recursos en español."
   ]
  },
  {
   "cell_type": "markdown",
   "metadata": {},
   "source": [
    "#### Apps para Smartphones y Tablets"
   ]
  },
  {
   "cell_type": "markdown",
   "metadata": {
    "slideshow": {
     "slide_type": "slide"
    }
   },
   "source": [
    "- **[Sololearn](https://www.sololearn.com/Course/Python/)**"
   ]
  },
  {
   "cell_type": "markdown",
   "metadata": {},
   "source": [
    "#### Repositorios"
   ]
  },
  {
   "cell_type": "markdown",
   "metadata": {
    "slideshow": {
     "slide_type": "slide"
    }
   },
   "source": [
    "En los repositorios de software encontrarán abundante información de códigos ya creados que les permitirán avanzar en el conocimiento de los diferentes esquemas de programación, así como ver cómo es que otros programan y tienen (posiblemente) buenas prácticas de programación que te servirán para tener unos códigos muy eficientes y límpios.\n",
    "\n",
    "- **[Github](https://github.com/ \"Github\")**"
   ]
  },
  {
   "cell_type": "markdown",
   "metadata": {},
   "source": [
    "[Volver a la Tabla de Contenido](#TOC)"
   ]
  }
 ],
 "metadata": {
  "kernelspec": {
   "display_name": "Python 3",
   "language": "python",
   "name": "python3"
  },
  "language_info": {
   "codemirror_mode": {
    "name": "ipython",
    "version": 3
   },
   "file_extension": ".py",
   "mimetype": "text/x-python",
   "name": "python",
   "nbconvert_exporter": "python",
   "pygments_lexer": "ipython3",
   "version": "3.7.10"
  },
  "latex_envs": {
   "LaTeX_envs_menu_present": true,
   "autocomplete": true,
   "bibliofile": "biblio.bib",
   "cite_by": "apalike",
   "current_citInitial": 1,
   "eqLabelWithNumbers": true,
   "eqNumInitial": 1,
   "hotkeys": {
    "equation": "Ctrl-E",
    "itemize": "Ctrl-I"
   },
   "labels_anchors": false,
   "latex_user_defs": false,
   "report_style_numbering": true,
   "user_envs_cfg": true
  },
  "toc": {
   "base_numbering": 1,
   "nav_menu": {},
   "number_sections": true,
   "sideBar": true,
   "skip_h1_title": true,
   "title_cell": "Tabla de Contenidos",
   "title_sidebar": "Contenidos",
   "toc_cell": true,
   "toc_position": {
    "height": "calc(100% - 180px)",
    "left": "10px",
    "top": "150px",
    "width": "165px"
   },
   "toc_section_display": true,
   "toc_window_display": true
  }
 },
 "nbformat": 4,
 "nbformat_minor": 2
}
