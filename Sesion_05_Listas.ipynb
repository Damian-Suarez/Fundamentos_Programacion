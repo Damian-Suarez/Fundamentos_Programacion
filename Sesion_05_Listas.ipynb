{
 "cells": [
  {
   "cell_type": "markdown",
   "metadata": {},
   "source": [
    "<p float=\"center\">\n",
    "  <img src=\"https://github.com/carlosalvarezh/Analisis_Numerico/blob/master/images/C00_Img00_logo.png?raw=true\" width=\"350\" />\n",
    "</p>\n",
    "<h1 align=\"center\">ST0286 Fundamentos de Programación</h1>\n",
    "<h1 align=\"center\">Semana 05: Estructura de datos - Tuplas y Listas</h1>\n",
    "<h1 align=\"center\">2021/01</h1>\n",
    "<h1 align=\"center\">MEDELLÍN - COLOMBIA </h1>"
   ]
  },
  {
   "cell_type": "markdown",
   "metadata": {},
   "source": [
    "<a id='TOC'></a>"
   ]
  },
  {
   "cell_type": "markdown",
   "metadata": {
    "toc": true
   },
   "source": [
    "<h1>Tabla de Contenidos<span class=\"tocSkip\"></span></h1>\n",
    "<div class=\"toc\"><ul class=\"toc-item\"><li><span><a href=\"#Introducción\" data-toc-modified-id=\"Introducción-1\"><span class=\"toc-item-num\">1&nbsp;&nbsp;</span>Introducción</a></span></li><li><span><a href=\"#Tuplas\" data-toc-modified-id=\"Tuplas-2\"><span class=\"toc-item-num\">2&nbsp;&nbsp;</span>Tuplas</a></span></li><li><span><a href=\"#Listas\" data-toc-modified-id=\"Listas-3\"><span class=\"toc-item-num\">3&nbsp;&nbsp;</span>Listas</a></span><ul class=\"toc-item\"><li><span><a href=\"#Slicing-(-particionado)\" data-toc-modified-id=\"Slicing-(-particionado)-3.1\"><span class=\"toc-item-num\">3.1&nbsp;&nbsp;</span>Slicing ( particionado)</a></span></li><li><span><a href=\"#Listas-como-cadenas-de-texto:\" data-toc-modified-id=\"Listas-como-cadenas-de-texto:-3.2\"><span class=\"toc-item-num\">3.2&nbsp;&nbsp;</span>Listas como cadenas de texto:</a></span></li><li><span><a href=\"#Listas-anidadas\" data-toc-modified-id=\"Listas-anidadas-3.3\"><span class=\"toc-item-num\">3.3&nbsp;&nbsp;</span>Listas anidadas</a></span></li><li><span><a href=\"#Operaciones-Básicas-con-Listas\" data-toc-modified-id=\"Operaciones-Básicas-con-Listas-3.4\"><span class=\"toc-item-num\">3.4&nbsp;&nbsp;</span>Operaciones Básicas con Listas</a></span></li><li><span><a href=\"#Algunas-Funciones-y-Métodos-en-Listas\" data-toc-modified-id=\"Algunas-Funciones-y-Métodos-en-Listas-3.5\"><span class=\"toc-item-num\">3.5&nbsp;&nbsp;</span>Algunas Funciones y Métodos en Listas</a></span></li><li><span><a href=\"#List-comprenhension\" data-toc-modified-id=\"List-comprenhension-3.6\"><span class=\"toc-item-num\">3.6&nbsp;&nbsp;</span>List comprenhension</a></span></li><li><span><a href=\"#Ejemplos\" data-toc-modified-id=\"Ejemplos-3.7\"><span class=\"toc-item-num\">3.7&nbsp;&nbsp;</span>Ejemplos</a></span></li></ul></li><li><span><a href=\"#Laboratorio\" data-toc-modified-id=\"Laboratorio-4\"><span class=\"toc-item-num\">4&nbsp;&nbsp;</span>Laboratorio</a></span></li></ul></div>"
   ]
  },
  {
   "cell_type": "markdown",
   "metadata": {},
   "source": [
    "## Introducción"
   ]
  },
  {
   "cell_type": "markdown",
   "metadata": {},
   "source": [
    "- Hasta ahora, cada variable que hemos creado se ha referido a un número simple o cadena de caracteres.\n",
    "\n",
    "\n",
    "- En este capítulo se usaran colecciones de datos.\n",
    "\n",
    "\n",
    "- Python posee diferentes tipos de colecciones de datos: *Tuplas*, *Listas* y *Diccionarios*.\n",
    "\n",
    "\n",
    "- Estos tres tipos, pueden almacenar colecciones de datos de diversos tipos y se diferencian por su sintaxis y por la forma en la cual los datos pueden ser manipulados."
   ]
  },
  {
   "cell_type": "markdown",
   "metadata": {},
   "source": [
    "[Volver a la Tabla de Contenido](#TOC)"
   ]
  },
  {
   "cell_type": "markdown",
   "metadata": {},
   "source": [
    "## Tuplas"
   ]
  },
  {
   "cell_type": "markdown",
   "metadata": {},
   "source": [
    "- Una tupla es una variable que permite almacenar varios datos inmutables (no pueden ser modificados una vez creados) de tipos diferentes y separados por coma `,`. \n",
    "\n",
    "- Aunque no es obligatorio, es usual juntar estos datos entre paréntesis."
   ]
  },
  {
   "cell_type": "code",
   "execution_count": null,
   "metadata": {},
   "outputs": [],
   "source": [
    "mi_tupla = (1, \"a\", 2.5, \"dato\" )"
   ]
  },
  {
   "cell_type": "code",
   "execution_count": null,
   "metadata": {},
   "outputs": [],
   "source": [
    "type(mi_tupla)"
   ]
  },
  {
   "cell_type": "code",
   "execution_count": null,
   "metadata": {},
   "outputs": [],
   "source": [
    "otra_tupla = (2, \"Dato\", 2.9, \"Zammis\", False, \"otro dato\")\n",
    "print(otra_tupla)"
   ]
  },
  {
   "cell_type": "code",
   "execution_count": null,
   "metadata": {},
   "outputs": [],
   "source": [
    "type(otra_tupla)"
   ]
  },
  {
   "cell_type": "markdown",
   "metadata": {},
   "source": [
    "Para referirnos a elementos de una tupla se usa el operador `[ ]`"
   ]
  },
  {
   "cell_type": "code",
   "execution_count": null,
   "metadata": {},
   "outputs": [],
   "source": [
    "dato_tupla =mi_tupla[3]\n",
    "print(dato_tupla)"
   ]
  },
  {
   "cell_type": "markdown",
   "metadata": {},
   "source": [
    "Para saber los métodos que se pueden realizar sobre tuplas se hace mediante el nombre de la tupla seguido por un punto `.` y mediante la opción de autocompletar (tabulador) se despliega una ventana con las diferentes opciones."
   ]
  },
  {
   "cell_type": "code",
   "execution_count": null,
   "metadata": {},
   "outputs": [],
   "source": [
    "mi_tupla."
   ]
  },
  {
   "cell_type": "markdown",
   "metadata": {},
   "source": [
    "[Volver a la Tabla de Contenido](#TOC)"
   ]
  },
  {
   "cell_type": "markdown",
   "metadata": {},
   "source": [
    "## Listas"
   ]
  },
  {
   "cell_type": "markdown",
   "metadata": {},
   "source": [
    "Las listas se relacionan a arreglos (`arrays`) en lenguajes como `C`, `C++` o `Java`, pero en `Python` las listas son más fexibles y poderosas qe los clásicos arreglos. Por ejemplo, los ítems en una lista no necesitan ser todos del mismo tipo, más aún, pueden crecer en la ejecución del programa, mientras que en `C` el tamaño de un arreglo es fijo. \n",
    "\n",
    "Las principales propiedades de una lista son:\n",
    "\n",
    "- Están ordenados\n",
    "\n",
    "- Contienen una colección arbitraria de objetos (números, cadenas, booleanos, otras listas...)\n",
    "\n",
    "- Los elementos de una lista pueden ser accesados por un índice\n",
    "\n",
    "- Variable en tamaño\n",
    "\n",
    "- Son mutables, es decir, los elementos en una lista pueden cambiar\n",
    "\n",
    "para definir una lista basta ubicar los diferentes elementos que la compondrán, separados por coma y entre corchetes"
   ]
  },
  {
   "cell_type": "code",
   "execution_count": null,
   "metadata": {},
   "outputs": [],
   "source": [
    "mi_lista = ['dato', 15, 2.8, \"otro dato\", True, \"98456226\", 27]\n",
    "print(type(mi_lista))\n",
    "print(mi_lista)"
   ]
  },
  {
   "cell_type": "markdown",
   "metadata": {},
   "source": [
    "- La numeración de los índices siempre empieza en cero (`0`) si se acceden desde el primer elemento a la izquierda y se recorren hacia la derecha. O desde `-1`, si se acceden desde el último elemento a la derecha y se recorre hacia la izquierda."
   ]
  },
  {
   "cell_type": "code",
   "execution_count": null,
   "metadata": {},
   "outputs": [],
   "source": [
    "# diferentes formas de acceder al primer elemento de la lista\n",
    "print(mi_lista[0])\n",
    "print(mi_lista[-7])"
   ]
  },
  {
   "cell_type": "code",
   "execution_count": null,
   "metadata": {},
   "outputs": [],
   "source": [
    "# acceder al último elemento de la lista\n",
    "print(mi_lista[-1])"
   ]
  },
  {
   "cell_type": "markdown",
   "metadata": {},
   "source": [
    "A continuación veamos algunos procedimientos que podemos realizar sobre listas"
   ]
  },
  {
   "cell_type": "code",
   "execution_count": null,
   "metadata": {},
   "outputs": [],
   "source": [
    "print(mi_lista)"
   ]
  },
  {
   "cell_type": "markdown",
   "metadata": {},
   "source": [
    "Podemos cambiar los valores en un elemento de la lista"
   ]
  },
  {
   "cell_type": "code",
   "execution_count": null,
   "metadata": {},
   "outputs": [],
   "source": [
    "mi_lista[2] = 3.8\n",
    "print(mi_lista)"
   ]
  },
  {
   "cell_type": "markdown",
   "metadata": {},
   "source": [
    "Con la función `len()` podemos determinar el tamaño de la lista (cantidad de elementos que la componen)"
   ]
  },
  {
   "cell_type": "code",
   "execution_count": null,
   "metadata": {},
   "outputs": [],
   "source": [
    "len(mi_lista)"
   ]
  },
  {
   "cell_type": "markdown",
   "metadata": {},
   "source": [
    "Para saber cuáles métodos se aplican a una lista, se coloca el nombre de la lista seguido de un `.` y la opción autocompletar (tabulación). Se despliega un menú con los diferentes métodos:"
   ]
  },
  {
   "cell_type": "code",
   "execution_count": null,
   "metadata": {},
   "outputs": [],
   "source": [
    "mi_lista."
   ]
  },
  {
   "cell_type": "markdown",
   "metadata": {},
   "source": [
    "A las listas se les permiten agregar nuevos valores mediante el método `append`. El método `append` adiciona cada vez un elemento al final de la lista (es lo que en estructura de datos se conoce con el concepto de `pila`"
   ]
  },
  {
   "cell_type": "code",
   "execution_count": null,
   "metadata": {},
   "outputs": [],
   "source": [
    "print(mi_lista)"
   ]
  },
  {
   "cell_type": "code",
   "execution_count": null,
   "metadata": {},
   "outputs": [],
   "source": [
    "mi_lista.append(\"último\")\n",
    "mi_lista"
   ]
  },
  {
   "cell_type": "markdown",
   "metadata": {},
   "source": [
    "Cuando se quiere agregar un elemento en una posoción determinada por el usuario se emplea el método `insert`"
   ]
  },
  {
   "cell_type": "code",
   "execution_count": null,
   "metadata": {},
   "outputs": [],
   "source": [
    "mi_lista"
   ]
  },
  {
   "cell_type": "code",
   "execution_count": null,
   "metadata": {},
   "outputs": [],
   "source": [
    "mi_lista.insert(2,10)\n",
    "mi_lista"
   ]
  },
  {
   "cell_type": "code",
   "execution_count": null,
   "metadata": {},
   "outputs": [],
   "source": [
    "lista = [1,2,3]\n",
    "print(lista)\n",
    "\n",
    "for i in range(1,10,2):\n",
    "    lista.append(i)\n",
    "\n",
    "print(lista)"
   ]
  },
  {
   "cell_type": "markdown",
   "metadata": {},
   "source": [
    "`Python` dispone de tres formas diferentes para eliminar elementos en una lista:\n",
    "\n",
    "\n",
    "- `del`: Eliminación por índice"
   ]
  },
  {
   "cell_type": "code",
   "execution_count": null,
   "metadata": {},
   "outputs": [],
   "source": [
    "del mi_lista[5]"
   ]
  },
  {
   "cell_type": "code",
   "execution_count": null,
   "metadata": {},
   "outputs": [],
   "source": [
    "print(mi_lista)"
   ]
  },
  {
   "cell_type": "markdown",
   "metadata": {},
   "source": [
    "- `remove`: Eliminación por valor"
   ]
  },
  {
   "cell_type": "code",
   "execution_count": null,
   "metadata": {},
   "outputs": [],
   "source": [
    "mi_lista.remove(10)"
   ]
  },
  {
   "cell_type": "code",
   "execution_count": null,
   "metadata": {},
   "outputs": [],
   "source": [
    "print (mi_lista)"
   ]
  },
  {
   "cell_type": "code",
   "execution_count": null,
   "metadata": {},
   "outputs": [],
   "source": [
    "mi_lista.remove(\"Hi\")"
   ]
  },
  {
   "cell_type": "code",
   "execution_count": null,
   "metadata": {},
   "outputs": [],
   "source": [
    "mi_lista=['dato', 15, 10, 3.8, 'otro dato',10, '98456226', 27, 'último',10]\n",
    "print(mi_lista)"
   ]
  },
  {
   "cell_type": "code",
   "execution_count": null,
   "metadata": {},
   "outputs": [],
   "source": [
    "mi_lista.remove(10)\n",
    "print(mi_lista)"
   ]
  },
  {
   "cell_type": "markdown",
   "metadata": {},
   "source": [
    "- `pop`: Eliminación por índice, mostrando el elemento eliminado."
   ]
  },
  {
   "cell_type": "code",
   "execution_count": null,
   "metadata": {},
   "outputs": [],
   "source": [
    "mi_lista.pop(2)"
   ]
  },
  {
   "cell_type": "code",
   "execution_count": null,
   "metadata": {},
   "outputs": [],
   "source": [
    "print(mi_lista)"
   ]
  },
  {
   "cell_type": "markdown",
   "metadata": {},
   "source": [
    "[Volver a la Tabla de Contenido](#TOC)"
   ]
  },
  {
   "cell_type": "markdown",
   "metadata": {},
   "source": [
    "### Slicing ( particionado)"
   ]
  },
  {
   "cell_type": "markdown",
   "metadata": {},
   "source": [
    "Permitir seleccionar porciones de la lista para generar sublistas. \n",
    "\n",
    "\n",
    "- Si en lugar de un número escribimos dos números `start` y `stop` separados por dos puntos `lista[start:stop]`,  `Python` interpretará que queremos una lista que vaya desde la posición `start` hasta la posición `stop`, sin incluir este último. \n",
    "\n",
    "\n",
    "- Si escribimos tres números `lista[start:stop:step]` en lugar de dos, el tercero se utiliza para determinar cada cuantas posiciones añadir un elemento a la lista."
   ]
  },
  {
   "cell_type": "code",
   "execution_count": null,
   "metadata": {},
   "outputs": [],
   "source": [
    "print(mi_lista)"
   ]
  },
  {
   "cell_type": "code",
   "execution_count": null,
   "metadata": {},
   "outputs": [],
   "source": [
    "Parte_lista = mi_lista[1:3]\n",
    "print(Parte_lista)"
   ]
  },
  {
   "cell_type": "code",
   "execution_count": null,
   "metadata": {},
   "outputs": [],
   "source": [
    "Parte_lista = mi_lista[1:4:2]\n",
    "print(Parte_lista)"
   ]
  },
  {
   "cell_type": "markdown",
   "metadata": {},
   "source": [
    "A veces no es necesario indicar el principio y el final del slicing, sino que, si estos se omiten, se usarán por defecto las posiciones de inicio y fin de la lista, respectivamente."
   ]
  },
  {
   "cell_type": "code",
   "execution_count": null,
   "metadata": {},
   "outputs": [],
   "source": [
    "mi_parte = mi_lista[1:]\n",
    "print(mi_parte)"
   ]
  },
  {
   "cell_type": "code",
   "execution_count": null,
   "metadata": {},
   "outputs": [],
   "source": [
    "mi_parte = mi_lista[:3]\n",
    "print(mi_parte)"
   ]
  },
  {
   "cell_type": "code",
   "execution_count": null,
   "metadata": {},
   "outputs": [],
   "source": [
    "mi_parte = mi_lista[:]\n",
    "print(mi_parte)"
   ]
  },
  {
   "cell_type": "code",
   "execution_count": null,
   "metadata": {},
   "outputs": [],
   "source": [
    "mi_parte = mi_lista[::2]\n",
    "print(mi_parte)"
   ]
  },
  {
   "cell_type": "markdown",
   "metadata": {},
   "source": [
    "[Volver a la Tabla de Contenido](#TOC)"
   ]
  },
  {
   "cell_type": "markdown",
   "metadata": {},
   "source": [
    "### Listas como cadenas de texto:"
   ]
  },
  {
   "cell_type": "code",
   "execution_count": null,
   "metadata": {},
   "outputs": [],
   "source": [
    "texto = \"Listas y cadenas de caracteres pueden ser accesados vía índices\"\n",
    "print(texto)\n",
    "print(type(texto))\n",
    "texto."
   ]
  },
  {
   "cell_type": "code",
   "execution_count": null,
   "metadata": {},
   "outputs": [],
   "source": [
    "print(texto[0], texto[9], texto[20])"
   ]
  },
  {
   "cell_type": "markdown",
   "metadata": {},
   "source": [
    "[Volver a la Tabla de Contenido](#TOC)"
   ]
  },
  {
   "cell_type": "markdown",
   "metadata": {},
   "source": [
    "### Listas anidadas"
   ]
  },
  {
   "cell_type": "code",
   "execution_count": null,
   "metadata": {},
   "outputs": [],
   "source": [
    "nestedlist = [[\"London\",\"England\", 7556900], [\"Paris\",\"France\",2193031,222222], [\"Bern\", \"Switzerland\", 123466],[\"Marinilla\",\"Colombia\",999999]] "
   ]
  },
  {
   "cell_type": "code",
   "execution_count": null,
   "metadata": {},
   "outputs": [],
   "source": [
    "print(nestedlist)"
   ]
  },
  {
   "cell_type": "code",
   "execution_count": null,
   "metadata": {},
   "outputs": [],
   "source": [
    "print(nestedlist[1][3])"
   ]
  },
  {
   "cell_type": "markdown",
   "metadata": {},
   "source": [
    "[Volver a la Tabla de Contenido](#TOC)"
   ]
  },
  {
   "cell_type": "markdown",
   "metadata": {},
   "source": [
    "### Operaciones Básicas con Listas"
   ]
  },
  {
   "cell_type": "code",
   "execution_count": null,
   "metadata": {},
   "outputs": [],
   "source": [
    "len(mi_lista) # Longitud"
   ]
  },
  {
   "cell_type": "code",
   "execution_count": null,
   "metadata": {},
   "outputs": [],
   "source": [
    "[1, 2, 3] + [4 , 5, 6, 7] # Concatenación"
   ]
  },
  {
   "cell_type": "code",
   "execution_count": null,
   "metadata": {},
   "outputs": [],
   "source": [
    "[\"Hola!\"]*4 # Repetición"
   ]
  },
  {
   "cell_type": "code",
   "execution_count": null,
   "metadata": {},
   "outputs": [],
   "source": [
    "\"o\" in [\"h\",\"o\",\"l\",\"a\"]  # Afiliación"
   ]
  },
  {
   "cell_type": "code",
   "execution_count": null,
   "metadata": {},
   "outputs": [],
   "source": [
    "lista=[\"hola\",\"mundo\",\"2018\"]"
   ]
  },
  {
   "cell_type": "code",
   "execution_count": null,
   "metadata": {},
   "outputs": [],
   "source": [
    "lista[0][1]"
   ]
  },
  {
   "cell_type": "code",
   "execution_count": null,
   "metadata": {},
   "outputs": [],
   "source": [
    "for x in [1,2,3,4]: print(x) # Iteración"
   ]
  },
  {
   "cell_type": "markdown",
   "metadata": {},
   "source": [
    "[Volver a la Tabla de Contenido](#TOC)"
   ]
  },
  {
   "cell_type": "markdown",
   "metadata": {},
   "source": [
    "### Algunas Funciones y Métodos en Listas"
   ]
  },
  {
   "cell_type": "code",
   "execution_count": null,
   "metadata": {},
   "outputs": [],
   "source": [
    "lista1 = [1, 3, 5, 7]\n",
    "lista2 = [(1, 2), 3, 4]"
   ]
  },
  {
   "cell_type": "code",
   "execution_count": null,
   "metadata": {},
   "outputs": [],
   "source": [
    "lista = lista1 + lista2\n",
    "print(lista)"
   ]
  },
  {
   "cell_type": "code",
   "execution_count": null,
   "metadata": {},
   "outputs": [],
   "source": [
    "lista[4][1]"
   ]
  },
  {
   "cell_type": "markdown",
   "metadata": {},
   "source": [
    "[Volver a la Tabla de Contenido](#TOC)"
   ]
  },
  {
   "cell_type": "markdown",
   "metadata": {},
   "source": [
    "### List comprenhension"
   ]
  },
  {
   "cell_type": "markdown",
   "metadata": {},
   "source": [
    "la comprensión de lista se incluyó en `Python`a partir de la versión `2.0`. Esencialmente, es la forma en que `Python` implementa una notación bien conocida para conjuntos como la usan los matemáticos.\n",
    "\n",
    "En matemáticas, los números cuadrados de los números naturales son, por ejemplo, creados por {x2 | x ∈ ℕ} o el conjunto de enteros complejos {(x, y) | x ∈ ℤ ∧ y ∈ ℤ}.\n",
    "\n",
    "La comprensión de listas es una forma elegante de definir y crear listas en `Python`. Estas listas tienen a menudo las cualidades de conjuntos, pero no son en todos los casos conjuntos."
   ]
  },
  {
   "cell_type": "markdown",
   "metadata": {},
   "source": [
    "La estructura de la comprensión de lista es:"
   ]
  },
  {
   "cell_type": "raw",
   "metadata": {},
   "source": [
    "list_variable = [x for x in iterable]"
   ]
  },
  {
   "cell_type": "markdown",
   "metadata": {},
   "source": [
    "[Volver a la Tabla de Contenido](#TOC)"
   ]
  },
  {
   "cell_type": "markdown",
   "metadata": {},
   "source": [
    "### Ejemplos"
   ]
  },
  {
   "cell_type": "markdown",
   "metadata": {},
   "source": [
    "Veamos este ejemplo en donde se crea un código que convierte un dato dado en grados *Celsius* a *Fahrenheit*."
   ]
  },
  {
   "cell_type": "code",
   "execution_count": null,
   "metadata": {},
   "outputs": [],
   "source": [
    "Fahrenheit = [ (9/5*x + 32) for x in [39.2, 36.5, 37.3, 37.8] ]\n",
    "print(Fahrenheit)"
   ]
  },
  {
   "cell_type": "code",
   "execution_count": null,
   "metadata": {},
   "outputs": [],
   "source": [
    "Celsius = [39.2, 36.5, 37.3, 37.8]\n",
    "Fahrenheit = []\n",
    "for x in Celsius:\n",
    "    Fahrenheit.append((9/5*x + 32))\n",
    "print(Fahrenheit)"
   ]
  },
  {
   "cell_type": "markdown",
   "metadata": {},
   "source": [
    "Veamos ahora el caso de la tarna pitagórica, que consta de tres enteros positivos $a$, $b$ y $c$, de modo que $a^2 + b^2 = c^2$. Tal terna se escribe comúnmente $(a, b, c)$, y el ejemplo más conocido es $(3, 4, 5)$. La siguiente comprensión de lista crea la terna pitagórica"
   ]
  },
  {
   "cell_type": "code",
   "execution_count": null,
   "metadata": {},
   "outputs": [],
   "source": [
    "n = 10\n",
    "[(x,y,z) for x in range(1,n) for y in range(x,n) for z in range(y,n) if x**2 + y**2 == z**2]"
   ]
  },
  {
   "cell_type": "markdown",
   "metadata": {},
   "source": [
    "[Volver a la Tabla de Contenido](#TOC)"
   ]
  },
  {
   "cell_type": "markdown",
   "metadata": {},
   "source": [
    "## Laboratorio"
   ]
  },
  {
   "cell_type": "markdown",
   "metadata": {},
   "source": [
    "1. Para el programa de la $Secuencia$ $de$ $Fibonacci$, con $n = 25$, genere una lista que contega los elementos pares de dicha serie.\n",
    "\n",
    "\n",
    "2. Escribir una función que tome un carácter y devuelva `True` si es una vocal, de lo contrario devuelve `False`.\n",
    "\n",
    "\n",
    "3. Definir una función inversa() que calcule la inversión de una cadena. Por ejemplo la cadena \"estoy probando\" debería devolver la cadena \"odnaborp yotse\"\n",
    "\n",
    "\n",
    "4. Crear una función contar_vocales(), que reciba una palabra y cuente cuantas letras \"a\" tiene, cuantas letras \"e\" tiene y así hasta completar todas las vocales. Se puede hacer que el usuario sea quien elija la palabra.\n",
    "\n",
    "\n",
    "5. Realizar el ejercicio de la suma de los 100 primeros números según la leyenda de *Gauss*"
   ]
  }
 ],
 "metadata": {
  "anaconda-cloud": {},
  "kernelspec": {
   "display_name": "Python 3",
   "language": "python",
   "name": "python3"
  },
  "language_info": {
   "codemirror_mode": {
    "name": "ipython",
    "version": 3
   },
   "file_extension": ".py",
   "mimetype": "text/x-python",
   "name": "python",
   "nbconvert_exporter": "python",
   "pygments_lexer": "ipython3",
   "version": "3.6.10"
  },
  "toc": {
   "base_numbering": 1,
   "nav_menu": {},
   "number_sections": true,
   "sideBar": true,
   "skip_h1_title": true,
   "title_cell": "Tabla de Contenidos",
   "title_sidebar": "Contenidos",
   "toc_cell": true,
   "toc_position": {},
   "toc_section_display": true,
   "toc_window_display": true
  }
 },
 "nbformat": 4,
 "nbformat_minor": 2
}
