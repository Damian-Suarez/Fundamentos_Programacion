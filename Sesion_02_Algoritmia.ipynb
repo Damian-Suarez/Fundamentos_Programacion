{
 "cells": [
  {
   "cell_type": "markdown",
   "metadata": {},
   "source": [
    "<h1 align=\"center\">UNIVERSIDAD EAFIT</h1>\n",
    "<h1 align=\"center\">ST0286 Fundamentos de Programación</h1>\n",
    "<h1 align=\"center\">Semana 02: Algoritmia</h1>\n",
    "<h1 align=\"center\">2021/01</h1>\n",
    "<h1 align=\"center\">MEDELLÍN - COLOMBIA </h1>"
   ]
  },
  {
   "cell_type": "markdown",
   "metadata": {},
   "source": [
    "<a id='TOC'></a>"
   ]
  },
  {
   "cell_type": "markdown",
   "metadata": {
    "toc": true
   },
   "source": [
    "<h1>Table of Contents<span class=\"tocSkip\"></span></h1>\n",
    "<div class=\"toc\"><ul class=\"toc-item\"><li><span><a href=\"#Algoritmo\" data-toc-modified-id=\"Algoritmo-1\"><span class=\"toc-item-num\">1&nbsp;&nbsp;</span>Algoritmo</a></span><ul class=\"toc-item\"><li><span><a href=\"#Características-de-un-algoritmo\" data-toc-modified-id=\"Características-de-un-algoritmo-1.1\"><span class=\"toc-item-num\">1.1&nbsp;&nbsp;</span>Características de un algoritmo</a></span></li><li><span><a href=\"#Ejemplo\" data-toc-modified-id=\"Ejemplo-1.2\"><span class=\"toc-item-num\">1.2&nbsp;&nbsp;</span>Ejemplo</a></span></li><li><span><a href=\"#Metodología-de-trabajo-con-algoritmos\" data-toc-modified-id=\"Metodología-de-trabajo-con-algoritmos-1.3\"><span class=\"toc-item-num\">1.3&nbsp;&nbsp;</span>Metodología de trabajo con algoritmos</a></span><ul class=\"toc-item\"><li><span><a href=\"#Análisis-del-problema\" data-toc-modified-id=\"Análisis-del-problema-1.3.1\"><span class=\"toc-item-num\">1.3.1&nbsp;&nbsp;</span>Análisis del problema</a></span></li><li><span><a href=\"#Diseño-de-solución\" data-toc-modified-id=\"Diseño-de-solución-1.3.2\"><span class=\"toc-item-num\">1.3.2&nbsp;&nbsp;</span>Diseño de solución</a></span></li><li><span><a href=\"#Validación-de-la-solución\" data-toc-modified-id=\"Validación-de-la-solución-1.3.3\"><span class=\"toc-item-num\">1.3.3&nbsp;&nbsp;</span>Validación de la solución</a></span></li><li><span><a href=\"#Codificación-en-un-lenguaje-de-programación\" data-toc-modified-id=\"Codificación-en-un-lenguaje-de-programación-1.3.4\"><span class=\"toc-item-num\">1.3.4&nbsp;&nbsp;</span>Codificación en un lenguaje de programación</a></span></li></ul></li></ul></li><li><span><a href=\"#Elementos-de-un-algoritmo\" data-toc-modified-id=\"Elementos-de-un-algoritmo-2\"><span class=\"toc-item-num\">2&nbsp;&nbsp;</span>Elementos de un algoritmo</a></span><ul class=\"toc-item\"><li><span><a href=\"#Constantes\" data-toc-modified-id=\"Constantes-2.1\"><span class=\"toc-item-num\">2.1&nbsp;&nbsp;</span>Constantes</a></span></li><li><span><a href=\"#Variables\" data-toc-modified-id=\"Variables-2.2\"><span class=\"toc-item-num\">2.2&nbsp;&nbsp;</span>Variables</a></span></li><li><span><a href=\"#Tipos-de-variables\" data-toc-modified-id=\"Tipos-de-variables-2.3\"><span class=\"toc-item-num\">2.3&nbsp;&nbsp;</span>Tipos de variables</a></span></li></ul></li><li><span><a href=\"#Pseudocódigo\" data-toc-modified-id=\"Pseudocódigo-3\"><span class=\"toc-item-num\">3&nbsp;&nbsp;</span>Pseudocódigo</a></span></li><li><span><a href=\"#Diagrama-de-Flujo\" data-toc-modified-id=\"Diagrama-de-Flujo-4\"><span class=\"toc-item-num\">4&nbsp;&nbsp;</span>Diagrama de Flujo</a></span></li><li><span><a href=\"#Estructuras-de-control\" data-toc-modified-id=\"Estructuras-de-control-5\"><span class=\"toc-item-num\">5&nbsp;&nbsp;</span>Estructuras de control</a></span><ul class=\"toc-item\"><li><span><a href=\"#Secuencial\" data-toc-modified-id=\"Secuencial-5.1\"><span class=\"toc-item-num\">5.1&nbsp;&nbsp;</span>Secuencial</a></span></li><li><span><a href=\"#Decisión\" data-toc-modified-id=\"Decisión-5.2\"><span class=\"toc-item-num\">5.2&nbsp;&nbsp;</span>Decisión</a></span></li><li><span><a href=\"#Implementación-en-PSeInt\" data-toc-modified-id=\"Implementación-en-PSeInt-5.3\"><span class=\"toc-item-num\">5.3&nbsp;&nbsp;</span>Implementación en PSeInt</a></span></li><li><span><a href=\"#Repetición,-iteración-o-ciclo\" data-toc-modified-id=\"Repetición,-iteración-o-ciclo-5.4\"><span class=\"toc-item-num\">5.4&nbsp;&nbsp;</span>Repetición, iteración o ciclo</a></span><ul class=\"toc-item\"><li><span><a href=\"#Estructura-de-repetición-mientras-(while)\" data-toc-modified-id=\"Estructura-de-repetición-mientras-(while)-5.4.1\"><span class=\"toc-item-num\">5.4.1&nbsp;&nbsp;</span>Estructura de repetición mientras (while)</a></span></li><li><span><a href=\"#Estructura-de-repetición-para-(for)\" data-toc-modified-id=\"Estructura-de-repetición-para-(for)-5.4.2\"><span class=\"toc-item-num\">5.4.2&nbsp;&nbsp;</span>Estructura de repetición para (for)</a></span></li></ul></li><li><span><a href=\"#Estructuras-de-control-anidadas\" data-toc-modified-id=\"Estructuras-de-control-anidadas-5.5\"><span class=\"toc-item-num\">5.5&nbsp;&nbsp;</span>Estructuras de control anidadas</a></span></li></ul></li><li><span><a href=\"#Recursos-computacionales\" data-toc-modified-id=\"Recursos-computacionales-6\"><span class=\"toc-item-num\">6&nbsp;&nbsp;</span>Recursos computacionales</a></span></li><li><span><a href=\"#Laboratorio\" data-toc-modified-id=\"Laboratorio-7\"><span class=\"toc-item-num\">7&nbsp;&nbsp;</span>Laboratorio</a></span><ul class=\"toc-item\"><li><span><a href=\"#Comparación-de-tres-números\" data-toc-modified-id=\"Comparación-de-tres-números-7.1\"><span class=\"toc-item-num\">7.1&nbsp;&nbsp;</span>Comparación de tres números</a></span></li><li><span><a href=\"#Suma-de-los-n-primeros-números-enteros\" data-toc-modified-id=\"Suma-de-los-n-primeros-números-enteros-7.2\"><span class=\"toc-item-num\">7.2&nbsp;&nbsp;</span>Suma de los n primeros números enteros</a></span></li></ul></li></ul></div>"
   ]
  },
  {
   "cell_type": "markdown",
   "metadata": {},
   "source": [
    "<p float=\"center\">\n",
    "  <img src=\"https://github.com/carlosalvarezh/FundamentosProgramacion/blob/main/images/Sem02Img01.jpg?raw=true\" width=\"250\" />\n",
    "</p>\n"
   ]
  },
  {
   "cell_type": "markdown",
   "metadata": {},
   "source": [
    "## Algoritmo"
   ]
  },
  {
   "cell_type": "markdown",
   "metadata": {},
   "source": [
    "En matemáticas y ciencias de la computación, un [algoritmo](https://en.wikipedia.org/wiki/Algorithm) es una secuencia finita de instrucciones, las cuales están bien definidas y se pueden implementar en una computadora. Típicamente, estas instrucciones se utilizan para resolver un tipo de problema o realizar un cálculo. El término algoritmo parece derivar del nombre de un matemático árabe llamado [Mohamed ibn Musa al – Khuwarizmi](https://en.wikipedia.org/wiki/Muhammad_ibn_Musa_al-Khwarizmi), que vivió en Bagdad alrededor del año 830 de nuestra era, y que escribió un libro que contenía un sistema de numeración decimal y reglas de cálculo. Dicho libro sería utilizado con posterioridad impulsando la sustitución del uso del ábaco.  Modernamente, se ha usado el término algoritmo en referencia a cualquier procedimiento sistemático de cálculo, que da lugar a un resultado después de seguirse una serie de instrucciones precisas."
   ]
  },
  {
   "cell_type": "markdown",
   "metadata": {},
   "source": [
    "[Volver a la Tabla de Contenido](#TOC)"
   ]
  },
  {
   "cell_type": "markdown",
   "metadata": {},
   "source": [
    "### Características de un algoritmo"
   ]
  },
  {
   "cell_type": "markdown",
   "metadata": {},
   "source": [
    "El científico de computación [Donald E. Knuth](https://en.wikipedia.org/wiki/Donald_Knuth) ofreció una lista de cinco propiedades, que son ampliamente aceptadas como requisitos para un algoritmo:\n",
    "Carácter finito.\n",
    "\n",
    "- ***Finitud:*** \"Un algoritmo siempre debe terminar después de un número finito de pasos\". \n",
    "\n",
    "\n",
    "- ***Precisión:*** \"Cada paso de un algoritmo debe estar precisamente definido; las operaciones a llevar a cabo deben ser especificadas de manera rigurosa y no ambigua para cada caso\".\n",
    "\n",
    "\n",
    "- ***Entrada:*** \"Un algoritmo tiene cero o más entradas: cantidades que le son dadas antes de que el algoritmo comience, o dinámicamente mientras el algoritmo corre. Estas entradas son tomadas de conjuntos específicos de objetos\".\n",
    "\n",
    "\n",
    "- ***Salida:*** \"Un algoritmo tiene una o más salidas: cantidades que tienen una relación específica con las entradas\".\n",
    "\n",
    "\n",
    "- ***Eficacia:*** \"También se espera que un algoritmo sea eficaz, en el sentido de que todas las operaciones a realizar en un algoritmo deben ser suficientemente básicas como para que en principio puedan ser hechas de manera exacta y en un tiempo finito por un hombre usando lápiz y papel\".\n",
    "\n",
    "Knuth admite que, aunque su descripción pueda ser intuitivamente clara, carece de rigor formal, puesto que no está exactamente claro qué significa \"precisamente definido\", \"de manera rigurosa y no ambigua\", o \"suficientemente básicas\", y así sucesivamente.\n",
    "\n",
    "A partir del carácter finito y de la salida se deduce que ante una misma situación inicial (o valores de entrada) un algoritmo debe proporcionar siempre el mismo resultado (o salida), con excepción de los algoritmos probabilistas. "
   ]
  },
  {
   "cell_type": "markdown",
   "metadata": {},
   "source": [
    "[Volver a la Tabla de Contenido](#TOC)"
   ]
  },
  {
   "cell_type": "markdown",
   "metadata": {},
   "source": [
    "### Ejemplo"
   ]
  },
  {
   "cell_type": "markdown",
   "metadata": {},
   "source": [
    "calcular el promedio de edad de los trabajadores de una oficina.\n",
    "\n",
    "<p float=\"center\">\n",
    "  <img src=\"https://github.com/carlosalvarezh/FundamentosProgramacion/blob/main/images/Sem02Img02.PNG?raw=true\" width=\"350\" />\n",
    "</p>\n",
    "\n",
    "\n",
    "***Secuencia de pasos:***\n",
    "\n",
    "\n",
    "- Paso 1: Determinar la cantidad de trabajadores de la oficina, $6$\n",
    "\n",
    "\n",
    "- Paso 2: Recoger la edad de cada uno de los integrantes\n",
    "\n",
    "\n",
    "- Paso 3: Sumar la edad de los integrantes \n",
    "\n",
    "\n",
    "- Paso 4: Dividir el total de la suma anterior entre $6$"
   ]
  },
  {
   "cell_type": "markdown",
   "metadata": {},
   "source": [
    "[Volver a la Tabla de Contenido](#TOC)"
   ]
  },
  {
   "cell_type": "markdown",
   "metadata": {},
   "source": [
    "### Metodología de trabajo con algoritmos"
   ]
  },
  {
   "cell_type": "markdown",
   "metadata": {},
   "source": [
    "#### Análisis del problema"
   ]
  },
  {
   "cell_type": "markdown",
   "metadata": {},
   "source": [
    "Realizar las siguientes preguntas:\n",
    "\n",
    "- ¿Cuál es el objetivo buscado?\n",
    "\n",
    "\n",
    "- ¿Cuáles son los datos de entrada?\n",
    "\n",
    "\n",
    "- ¿Qué cálculos/procesos deben llevarse a cabo?\n",
    "\n",
    "\n",
    "- ¿Cuáles son los datos de salida?"
   ]
  },
  {
   "cell_type": "markdown",
   "metadata": {},
   "source": [
    "[Volver a la Tabla de Contenido](#TOC)"
   ]
  },
  {
   "cell_type": "markdown",
   "metadata": {},
   "source": [
    "#### Diseño de solución"
   ]
  },
  {
   "cell_type": "markdown",
   "metadata": {},
   "source": [
    "- ***Objetivo:*** calcular el promedio de edad de los trabajadores de una oficina.\n",
    "\n",
    "\n",
    "- ***Datos de entrada:*** edad integrante 1, edad integrante 2, edad integrante 3, edad integrante 4, edad integrante 5, y edad integrante 6.\n",
    "\n",
    "\n",
    "- ***Procesos / cálculos:*** sumar las edades de los integrantes 1, 2, 3, 4, 5, y 6. Y dividir el total por 6.\n",
    "\n",
    "\n",
    "- ***Datos de salida:*** promedio de edad de los 6 integrantes.\n",
    "\n",
    "\n",
    "- ***Pseudocódigo***\n",
    "\n",
    "<div style=\"background-color:rgba(0, 0, 0, 0.0470588); padding:10px 0;font-family:monospace;\">\n",
    "<font color = \"red\">inicio</font><br>\n",
    "&nbsp;&nbsp;&nbsp;&nbsp; <font color = \"blue\" over</font> accion 1 <br>\n",
    "&nbsp;&nbsp;&nbsp;&nbsp; <font color = \"blue\" over</font> accion 2 <br>\n",
    "&nbsp;&nbsp;&nbsp;&nbsp; <font color = \"blue\" over</font> accion 3 <br>\n",
    "&nbsp;&nbsp;&nbsp;&nbsp; <font color = \"blue\" over</font> : <br>\n",
    "&nbsp;&nbsp;&nbsp;&nbsp; <font color = \"blue\" over</font> : <br>\n",
    "<font color = \"red\">fin</font><br>\n",
    "</div>\n"
   ]
  },
  {
   "cell_type": "markdown",
   "metadata": {},
   "source": [
    "[Volver a la Tabla de Contenido](#TOC)"
   ]
  },
  {
   "cell_type": "markdown",
   "metadata": {},
   "source": [
    "#### Validación de la solución"
   ]
  },
  {
   "cell_type": "markdown",
   "metadata": {},
   "source": [
    "Para validar la solución de un algoritmo, se pueden realizar pruebas de escritorio (las cuales no requieren el uso de computadores). O también se puedan realizar pruebas en computadores, para lo cual se necesita tener codificado el algoritmo en un lenguaje de programación.\n",
    "\n",
    "- ***Validación manual (prueba de escritorio - Pseudocódigo):***\n",
    "\n",
    "Determinar los valores finales de las variables suponiendo que se tienen las siguientes instrucciones:\n",
    "\n",
    "integrante1 = 20\n",
    "\n",
    "integrante2 = 18\n",
    "\n",
    "integrante3 = 23\n",
    "\n",
    "integrante4 = 40\n",
    "\n",
    "integrante5 = 21\n",
    "\n",
    "integrante6 = 23\n",
    "\n",
    "$$totaledades = 20 + 18 + 23 + 40 + 21 + 23=145$$\n",
    "\n",
    "$$promedio = \\frac{totaledades}{numerodepersonas}=\\frac{145}{6}=24.1667$$"
   ]
  },
  {
   "cell_type": "markdown",
   "metadata": {},
   "source": [
    "[Volver a la Tabla de Contenido](#TOC)"
   ]
  },
  {
   "cell_type": "markdown",
   "metadata": {},
   "source": [
    "#### Codificación en un lenguaje de programación"
   ]
  },
  {
   "cell_type": "code",
   "execution_count": 4,
   "metadata": {},
   "outputs": [
    {
     "name": "stdout",
     "output_type": "stream",
     "text": [
      "145\n",
      "24.166666666666668\n"
     ]
    }
   ],
   "source": [
    "integrante1 = 20\n",
    "integrante2 = 18\n",
    "integrante3 = 23\n",
    "integrante4 = 40\n",
    "integrante5 = 21\n",
    "integrante6 = 23\n",
    "\n",
    "suma = integrante1 + integrante2 + integrante3 + integrante4 + integrante5 + integrante6\n",
    "\n",
    "promedio = suma / 6\n",
    "\n",
    "print(promedio)"
   ]
  },
  {
   "cell_type": "markdown",
   "metadata": {},
   "source": [
    "[Volver a la Tabla de Contenido](#TOC)"
   ]
  },
  {
   "cell_type": "markdown",
   "metadata": {},
   "source": [
    "## Elementos de un algoritmo"
   ]
  },
  {
   "cell_type": "markdown",
   "metadata": {},
   "source": [
    "Los identificadores son los nombres que se les asignan a los objetos, los cuales se pueden considerar como variables o constantes, éstos intervienen en los procesos que se realizan para la solución de un problema, por consiguiente, es necesario establecer qué características tienen. \n",
    "\n",
    "Para establecer los nombres de los identificadores se deben respetar ciertas reglas que establecen cada uno de los lenguajes de programación, para el caso que nos ocupa se establecen de forma indistinta según el problema que se esté abordando, sin seguir regla alguna, generalmente se utilizará la letra, o las letras, con la que inicia el nombre de la variable que representa el objeto que se va a identificar."
   ]
  },
  {
   "cell_type": "markdown",
   "metadata": {},
   "source": [
    "[Volver a la Tabla de Contenido](#TOC)"
   ]
  },
  {
   "cell_type": "markdown",
   "metadata": {},
   "source": [
    "### Constantes"
   ]
  },
  {
   "cell_type": "markdown",
   "metadata": {},
   "source": [
    "Cuando el valor que se le asigna a este identificador no cambia durante la ejecución o proceso de solución del problema. Por ejemplo, en problemas donde se utiliza el valor de `PI`, o la constante de gravedad, `g`, si el lenguaje que se utiliza para codificar el programa y ejecutarlo en la computadora no lo tiene definido, entonces se puede establecer de forma constante estableciendo un identificador llamado PI. o g, y asignarle el valor correspondiente de la siguiente manera (empleando el caracter `=` o $ \\leftarrow $, y se lee de derecha a izquierda):\n",
    "\n",
    "$PI \\leftarrow 3.1416$ (\"*El valor de 3.1416 se le asigna a la variable PI*\")\n",
    "\n",
    "$g  \\leftarrow 9.81$\n",
    "\n",
    "De igual forma, se puede asignar valores constantes para otros identificadores según las necesidades del algoritmo que se esté diseñando."
   ]
  },
  {
   "cell_type": "markdown",
   "metadata": {},
   "source": [
    "[Volver a la Tabla de Contenido](#TOC)"
   ]
  },
  {
   "cell_type": "markdown",
   "metadata": {},
   "source": [
    "### Variables"
   ]
  },
  {
   "cell_type": "markdown",
   "metadata": {},
   "source": [
    "Los identificadores de tipo variable son todos aquellos objetos cuyo valor cambia durante la ejecución o proceso de solución del problema. Por ejemplo, la edad de una persona, el salario que alguien gana año a año, el pago de una cuota, el descuento ofrecido en un producto, el Largo (L) y Ancho (A) de un rectángulo que servirá para calcular el área,  etc."
   ]
  },
  {
   "cell_type": "markdown",
   "metadata": {},
   "source": [
    "[Volver a la Tabla de Contenido](#TOC)"
   ]
  },
  {
   "cell_type": "markdown",
   "metadata": {},
   "source": [
    "### Tipos de variables"
   ]
  },
  {
   "cell_type": "markdown",
   "metadata": {},
   "source": [
    "Los elementos que cambian durante la solución de un problema se denominan variables, se clasifican dependiendo de lo que deben representar en el algoritmo, por lo cual pueden ser: de tipo entero, real y string o de cadena, sin embargo, existen otros tipos de variables que son permitidos con base en el lenguaje de programación que se utilice para crear los programas, por consiguiente, al momento de estudiar algún lenguaje de programación en especial se deben dar a conocer esas clasificaciones. \n",
    "\n",
    "Para el caso de este curso, se denominará variables de tipo entero a todas aquellas cuyo valor no tenga valores decimales; contrario a las de tipo real, la cual podrá tomar valores con decimales. Como ejemplo de variables\n",
    "enteras se puede considerar el número de personas, días trabajados, edad de una persona, etcétera. Y para el caso de reales, se puede considerar el sueldo de una persona, el porcentaje de equis cantidad, etcétera.\n",
    "\n",
    "En caso de que las variables tomen valores de caracteres, se designarán string o de cadena; como ejemplo de éstas se pueden mencionar el sexo de una persona, falso o verdadero, el nombre de una persona, el tipo de sangre, etcétera."
   ]
  },
  {
   "cell_type": "markdown",
   "metadata": {},
   "source": [
    "[Volver a la Tabla de Contenido](#TOC)"
   ]
  },
  {
   "cell_type": "markdown",
   "metadata": {},
   "source": [
    "## Pseudocódigo"
   ]
  },
  {
   "cell_type": "markdown",
   "metadata": {},
   "source": [
    "El [pseudocódigo](https://es.wikipedia.org/wiki/Pseudoc%C3%B3digo \"Pseudocódigo\") es una serie de pasos bien detallados y claros que conducen a la resolución de un problema. Es la descripción compacta e informal de la secuencia de pasos que se debe realizar para resolver un problema.\n",
    "\n",
    "La facilidad de pasar casi de forma directa el pseudocódigo a la computadora ha dado como resultado que muchos programadores implementen de forma directa los programas en la computadora, cosa que no es muy recomendable, sobre todo cuando no se tiene la suficiente experiencia para tal aventura, pues se podrían tener errores propios de la poca experiencia acumulada con la solución de diferentes problemas.\n",
    "\n",
    "Como ejemplo, el pseudocódigo para calcular el volumen de una caja en forma de cubo de dimensiones A, B y C podría ser:\n",
    "\n",
    "<p float=\"center\">\n",
    "  <img src=\"https://github.com/carlosalvarezh/FundamentosProgramacion/blob/main/images/Sem02Img03.PNG?raw=true\" width=\"750\" />\n",
    "</p>\n"
   ]
  },
  {
   "cell_type": "markdown",
   "metadata": {},
   "source": [
    "[Volver a la Tabla de Contenido](#TOC)"
   ]
  },
  {
   "cell_type": "markdown",
   "metadata": {},
   "source": [
    "## Diagrama de Flujo"
   ]
  },
  {
   "cell_type": "markdown",
   "metadata": {},
   "source": [
    "Los [diagramas de flujo](https://es.wikipedia.org/wiki/Diagrama_de_flujo \"Diagrama de flujo\") permiten representar gráficamente la secuencia de operaciones que se deben realizar para la solución de un problema, mediante el uso de una serie de símbolos especiales, previamente definidos y estandarizados.\n",
    "\n",
    "<p float=\"center\">\n",
    "  <img src=\"https://github.com/carlosalvarezh/FundamentosProgramacion/blob/main/images/Sem02Img04.png?raw=true\" width=\"350\" />\n",
    "</p>\n"
   ]
  },
  {
   "cell_type": "markdown",
   "metadata": {},
   "source": [
    "Ahora veamos como se implementaría en la solución para el cálculo del volumen del ejemplo de la caja. en la columna de la izquierda se tiene el pseudocódigo, en la columna central, el diagrama de flujo.\n",
    "\n",
    "<p float=\"center\">\n",
    "  <img src=\"https://github.com/carlosalvarezh/FundamentosProgramacion/blob/main/images/Sem02Img05i.PNG?raw=true\" width=\"500\" />\n",
    "</p>\n"
   ]
  },
  {
   "cell_type": "markdown",
   "metadata": {},
   "source": [
    "[Volver a la Tabla de Contenido](#TOC)"
   ]
  },
  {
   "cell_type": "markdown",
   "metadata": {},
   "source": [
    "## Estructuras de control "
   ]
  },
  {
   "cell_type": "markdown",
   "metadata": {},
   "source": [
    "Las [estructuras de control](https://es.wikipedia.org/wiki/Estructuras_de_control \"Estructuras de control\") permiten modificar el flujo de la ejecucíón de las instrucciones dentro de un programa. Como la solución de los problemas será a través de una computadora, debemos ver ésta como si fuera un [sistema](https://es.wikipedia.org/wiki/Sistema \"Sistema\") que tiene una entrada de información, un elemento que procesa, o transforma, dicha información y obtener una salida.\n",
    "\n",
    "<p float=\"center\">\n",
    "  <img src=\"https://github.com/carlosalvarezh/FundamentosProgramacion/blob/main/images/Sem02Img06.PNG?raw=true\" width=\"500\" />\n",
    "</p>\n"
   ]
  },
  {
   "cell_type": "markdown",
   "metadata": {},
   "source": [
    "En programación se cuenta básicamente con tres estructuras de control de flujo de la información:\n",
    "\n",
    "- Secuencial\n",
    "\n",
    "\n",
    "- Decisión o selección (sí - entonces)\n",
    "\n",
    "\n",
    "- Repetición, iteración o ciclo (mientras / para)\n"
   ]
  },
  {
   "cell_type": "markdown",
   "metadata": {},
   "source": [
    "[Volver a la Tabla de Contenido](#TOC)"
   ]
  },
  {
   "cell_type": "markdown",
   "metadata": {},
   "source": [
    "### Secuencial"
   ]
  },
  {
   "cell_type": "markdown",
   "metadata": {},
   "source": [
    "Las instrucciones se ejecutan una seguida de la otra, en el orden descritas, y para que se ejecute la siguiente sentencia la anterior debe haber finalizado su ejecución por completo. Como ejemplo tenemos el cálculo del volumen del cubo visto antes."
   ]
  },
  {
   "cell_type": "markdown",
   "metadata": {},
   "source": [
    "[Volver a la Tabla de Contenido](#TOC)"
   ]
  },
  {
   "cell_type": "markdown",
   "metadata": {},
   "source": [
    "### Decisión"
   ]
  },
  {
   "cell_type": "markdown",
   "metadata": {},
   "source": [
    "Estas estructuras ejecutan un bloque de instrucciones u otro, cumpliendo, o no, una condición establecida.\n",
    "\n",
    "- ***Pseudocódigo:***\n",
    "\n",
    "<div style=\"background-color:rgba(0, 0, 0, 0.0470588); padding:10px 0;font-family:monospace;\">\n",
    "<font color = \"red\">Si [condición] entonces: </font><br>\n",
    "&nbsp;&nbsp;&nbsp;&nbsp; <font color = \"blue\" over</font> Bloque de acciones condición verdadera<br>\n",
    "&nbsp;&nbsp;&nbsp;&nbsp; <font color = \"blue\" over</font> : <br>\n",
    "&nbsp;&nbsp;&nbsp;&nbsp; <font color = \"blue\" over</font> : <br>\n",
    "<font color = \"red\">Sino: </font><br>\n",
    "&nbsp;&nbsp;&nbsp;&nbsp; <font color = \"blue\" over</font> Bloque de acciones condición falsa<br>\n",
    "&nbsp;&nbsp;&nbsp;&nbsp; <font color = \"blue\" over</font> : <br>\n",
    "&nbsp;&nbsp;&nbsp;&nbsp; <font color = \"blue\" over</font> : <br>\n",
    "<font color = \"red\">fin</font><br>\n",
    "</div>\n",
    "\n",
    "\n",
    "- ***Diagrama de flujo:***\n",
    "<p float=\"center\">\n",
    "  <img src=\"https://github.com/carlosalvarezh/FundamentosProgramacion/blob/main/images/Sem02Img07.PNG?raw=true\" width=\"750\" />\n",
    "</p>"
   ]
  },
  {
   "cell_type": "markdown",
   "metadata": {},
   "source": [
    "***Ejemplo:*** Implementar un algoritmo oara determinar cuál de dos valores dados es el mayor (o menor):\n",
    "\n",
    "- ***Pseudocódigo:***\n",
    "\n",
    "<p float=\"center\">\n",
    "  <img src=\"https://github.com/carlosalvarezh/FundamentosProgramacion/blob/main/images/Sem02Img08.PNG?raw=true\" width=\"250\" />\n",
    "</p>\n",
    "\n",
    "\n",
    "- ***Diagrama de flujo:***\n",
    "\n",
    "<p float=\"center\">\n",
    "  <img src=\"https://github.com/carlosalvarezh/FundamentosProgramacion/blob/main/images/Sem02Img09.PNG?raw=true\" width=\"750\" />\n",
    "</p>\n"
   ]
  },
  {
   "cell_type": "markdown",
   "metadata": {},
   "source": [
    "[Volver a la Tabla de Contenido](#TOC)"
   ]
  },
  {
   "cell_type": "markdown",
   "metadata": {},
   "source": [
    "### Implementación en PSeInt"
   ]
  },
  {
   "cell_type": "markdown",
   "metadata": {},
   "source": [
    "A manera de ejemplo, se muestra como sería la implementación en la herramienta de libre uso [PSeInt](http://pseint.sourceforge.net/ \"PSeInt\"):\n",
    "\n",
    "- ***Pseudocódigo:***\n",
    "\n",
    "<p float=\"center\">\n",
    "  <img src=\"https://github.com/carlosalvarezh/FundamentosProgramacion/blob/main/images/Sem02Img09a.PNG?raw=true\" width=\"750\" />\n",
    "</p>\n",
    "\n",
    "\n",
    "- ***Diagrama de flujo:***\n",
    "\n",
    "<p float=\"center\">\n",
    "  <img src=\"https://github.com/carlosalvarezh/FundamentosProgramacion/blob/main/images/Sem02Img09b.PNG?raw=true\" width=\"750\" />\n",
    "</p>\n"
   ]
  },
  {
   "cell_type": "markdown",
   "metadata": {},
   "source": [
    "[Volver a la Tabla de Contenido](#TOC)"
   ]
  },
  {
   "cell_type": "markdown",
   "metadata": {},
   "source": [
    "### Repetición, iteración o ciclo"
   ]
  },
  {
   "cell_type": "markdown",
   "metadata": {},
   "source": [
    "Estas estructuras repiten un bloque de instrucciones si se cumple una condición o mientras se cumple una condición.  Hay básicamente dos formas:"
   ]
  },
  {
   "cell_type": "markdown",
   "metadata": {},
   "source": [
    "#### Estructura de repetición mientras (while)"
   ]
  },
  {
   "cell_type": "markdown",
   "metadata": {},
   "source": [
    "Mientras (`while`) la condición sea verdadera (`True`), se ejecutarán las sentencias del bloque. Es igual que una estructura condicional `if`, solo que se repite una o más veces, dependiendo de la evaluación de la condición..\n",
    "\n",
    "- ***Pseudocódigo:***\n",
    "\n",
    "<div style=\"background-color:rgba(0, 0, 0, 0.0470588); padding:10px 0;font-family:monospace;\">\n",
    "<font color = \"red\">Mientras [condición] entonces: </font><br>\n",
    "&nbsp;&nbsp;&nbsp;&nbsp; <font color = \"blue\" over</font> Bloque de acciones condición verdadera<br>\n",
    "&nbsp;&nbsp;&nbsp;&nbsp; <font color = \"blue\" over</font> : <br>\n",
    "&nbsp;&nbsp;&nbsp;&nbsp; <font color = \"blue\" over</font> : <br>\n",
    "<font color = \"red\">repita hasta que [condición] sea falsa</font><br>\n",
    "</div>\n",
    "\n",
    "- ***Diagrama de flujo:***\n",
    "\n",
    "<p float=\"center\">\n",
    "  <img src=\"https://github.com/carlosalvarezh/FundamentosProgramacion/blob/main/images/Sem02Img11.PNG?raw=true\" width=\"350\" />\n",
    "</p>\n"
   ]
  },
  {
   "cell_type": "markdown",
   "metadata": {},
   "source": [
    "[Volver a la Tabla de Contenido](#TOC)"
   ]
  },
  {
   "cell_type": "markdown",
   "metadata": {},
   "source": [
    "#### Estructura de repetición para (for)"
   ]
  },
  {
   "cell_type": "markdown",
   "metadata": {},
   "source": [
    "Ejecuta las sentencias una cierta cantidad de veces conocidas a priori\n",
    "\n",
    "\n",
    "- ***Pseudocódigo:***\n",
    "<div style=\"background-color:rgba(0, 0, 0, 0.0470588); padding:10px 0;font-family:monospace;\">\n",
    "<font color = \"red\">Para [valor inicial] hasta [valor final] de a [incremento] haga: </font><br>\n",
    "&nbsp;&nbsp;&nbsp;&nbsp; <font color = \"blue\" over</font> Bloque de acciones<br>\n",
    "&nbsp;&nbsp;&nbsp;&nbsp; <font color = \"blue\" over</font> : <br>\n",
    "&nbsp;&nbsp;&nbsp;&nbsp; <font color = \"blue\" over</font> : <br>\n",
    "<font color = \"red\">fin</font><br>\n",
    "</div>\n",
    "\n",
    "- ***Diagrama de flujo:***\n",
    "\n",
    "<p float=\"center\">\n",
    "  <img src=\"https://github.com/carlosalvarezh/FundamentosProgramacion/blob/main/images/Sem02Img12.PNG?raw=true\" width=\"350\" />\n",
    "</p>\n"
   ]
  },
  {
   "cell_type": "markdown",
   "metadata": {},
   "source": [
    "[Volver a la Tabla de Contenido](#TOC)"
   ]
  },
  {
   "cell_type": "markdown",
   "metadata": {},
   "source": [
    "### Estructuras de control anidadas"
   ]
  },
  {
   "cell_type": "markdown",
   "metadata": {},
   "source": [
    "Se pueden tener estructuras de control anidadas, es decir, una dentro de otra, dependiendo del tipo de problema. En el caso de decisiones anidadas se tendría, por ejemplo:\n",
    "\n",
    "- ***Pseudocódigo:***\n",
    "\n",
    "\n",
    "<div style=\"background-color:rgba(0, 0, 0, 0.0470588); padding:10px 0;font-family:monospace;\">\n",
    "<font color = \"red\">Si [condición] entonces: </font><br>\n",
    "&nbsp;&nbsp;&nbsp;&nbsp; <font color = \"blue\" over</font> Bloque de acciones condición verdadera<br>\n",
    "&nbsp;&nbsp;&nbsp;&nbsp; <font color = \"blue\" over</font> : <br>\n",
    "&nbsp;&nbsp;&nbsp;&nbsp; <font color = \"blue\" over</font> : <br>\n",
    "<font color = \"red\">Sino si [otra condición] entonces: </font><br>\n",
    "&nbsp;&nbsp;&nbsp;&nbsp; <font color = \"blue\" over</font> Bloque de acciones otra condición verdadera<br>\n",
    "&nbsp;&nbsp;&nbsp;&nbsp; <font color = \"blue\" over</font> : <br>\n",
    "&nbsp;&nbsp;&nbsp;&nbsp; <font color = \"blue\" over</font> : <br>\n",
    "<font color = \"red\">Sino: </font><br>\n",
    "&nbsp;&nbsp;&nbsp;&nbsp; <font color = \"blue\" over</font> Bloque de acciones condiciones falsas<br>\n",
    "&nbsp;&nbsp;&nbsp;&nbsp; <font color = \"blue\" over</font> : <br>\n",
    "&nbsp;&nbsp;&nbsp;&nbsp; <font color = \"blue\" over</font> : <br>\n",
    "<font color = \"red\">fin</font><br>\n",
    "</div>\n",
    "\n",
    "\n",
    "\n",
    "- ***Diagrama de flujo:***\n",
    "\n",
    "<p float=\"center\">\n",
    "  <img src=\"https://github.com/carlosalvarezh/FundamentosProgramacion/blob/main/images/Sem02Img10.PNG?raw=true\" width=\"750\" />\n",
    "</p>\n"
   ]
  },
  {
   "cell_type": "markdown",
   "metadata": {},
   "source": [
    "[Volver a la Tabla de Contenido](#TOC)"
   ]
  },
  {
   "cell_type": "markdown",
   "metadata": {},
   "source": [
    "## Recursos computacionales"
   ]
  },
  {
   "cell_type": "markdown",
   "metadata": {},
   "source": [
    "Existen varios programas que permiten trabajar la parte algoritmica sin necesidad de estar amarrados a un lenguaje de programación en específico. En este curso se propone el [PSeInt](http://pseint.sourceforge.net/ \"PSeInt\")."
   ]
  },
  {
   "cell_type": "markdown",
   "metadata": {},
   "source": [
    "[Volver a la Tabla de Contenido](#TOC)"
   ]
  },
  {
   "cell_type": "markdown",
   "metadata": {},
   "source": [
    "## Laboratorio"
   ]
  },
  {
   "cell_type": "markdown",
   "metadata": {},
   "source": [
    "Realice el pseudocódigo y su respectivo diagrama de flujo en `PseInt` para cada uno de los siguientes ejercicios propuestos. Elabore también una prueba de escritorio."
   ]
  },
  {
   "cell_type": "markdown",
   "metadata": {},
   "source": [
    "### Comparación de tres números"
   ]
  },
  {
   "cell_type": "markdown",
   "metadata": {},
   "source": [
    "Dados tres números, determinar:\n",
    "\n",
    "\n",
    "- cuál es el de mayor valor\n",
    "\n",
    "\n",
    "- cuál es el de menor valor\n",
    "\n",
    "\n",
    "- cuál es el de valor intermedio\n",
    "\n",
    "\n",
    "- si hay dos números iguales\n",
    "\n",
    "\n",
    "- si los tres números son iguales."
   ]
  },
  {
   "cell_type": "markdown",
   "metadata": {},
   "source": [
    "### Suma de los n primeros números enteros"
   ]
  },
  {
   "cell_type": "markdown",
   "metadata": {},
   "source": [
    "Dada la cantidad de los primeros $n$ números naturales, determinar su suma:\n",
    "\n",
    "- Empleando un ciclo mientras (while)\n",
    "\n",
    "\n",
    "- Empleando un ciclo para (for)"
   ]
  },
  {
   "cell_type": "markdown",
   "metadata": {},
   "source": [
    "[Volver a la Tabla de Contenido](#TOC)"
   ]
  }
 ],
 "metadata": {
  "kernelspec": {
   "display_name": "Python 3",
   "language": "python",
   "name": "python3"
  },
  "language_info": {
   "codemirror_mode": {
    "name": "ipython",
    "version": 3
   },
   "file_extension": ".py",
   "mimetype": "text/x-python",
   "name": "python",
   "nbconvert_exporter": "python",
   "pygments_lexer": "ipython3",
   "version": "3.6.10"
  },
  "toc": {
   "base_numbering": 1,
   "nav_menu": {},
   "number_sections": true,
   "sideBar": true,
   "skip_h1_title": true,
   "title_cell": "Table of Contents",
   "title_sidebar": "Contents",
   "toc_cell": true,
   "toc_position": {},
   "toc_section_display": true,
   "toc_window_display": true
  }
 },
 "nbformat": 4,
 "nbformat_minor": 4
}
